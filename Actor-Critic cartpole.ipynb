{
 "cells": [
  {
   "cell_type": "code",
   "execution_count": 1,
   "metadata": {},
   "outputs": [],
   "source": [
    "%matplotlib inline\n",
    "import matplotlib.pyplot as plt"
   ]
  },
  {
   "cell_type": "code",
   "execution_count": 14,
   "metadata": {},
   "outputs": [],
   "source": [
    "import gym\n",
    "import numpy as np\n",
    "import nengo\n",
    "import scipy.special"
   ]
  },
  {
   "cell_type": "code",
   "execution_count": 83,
   "metadata": {},
   "outputs": [
    {
     "data": {
      "application/vdom.v1+json": {
       "attributes": {},
       "tagName": "div"
      },
      "text/html": [
       "\n",
       "                <script>\n",
       "                    if (Jupyter.version.split(\".\")[0] < 5) {\n",
       "                        var pb = document.getElementById(\"42b056df-29de-4ff1-843d-24e6bdb9f54a\");\n",
       "                        var text = document.createTextNode(\n",
       "                            \"HMTL progress bar requires Jupyter Notebook >= \" +\n",
       "                            \"5.0 or Jupyter Lab. Alternatively, you can use \" +\n",
       "                            \"TerminalProgressBar().\");\n",
       "                        pb.parentNode.insertBefore(text, pb);\n",
       "                    }\n",
       "                </script>\n",
       "                <div id=\"42b056df-29de-4ff1-843d-24e6bdb9f54a\" style=\"\n",
       "                    width: 100%;\n",
       "                    border: 1px solid #cfcfcf;\n",
       "                    border-radius: 4px;\n",
       "                    text-align: center;\n",
       "                    position: relative;\">\n",
       "                  <div class=\"pb-text\" style=\"\n",
       "                      position: absolute;\n",
       "                      width: 100%;\">\n",
       "                    0%\n",
       "                  </div>\n",
       "                  <div class=\"pb-fill\" style=\"\n",
       "                      background-color: #bdd2e6;\n",
       "                      width: 0%;\">\n",
       "                    <style type=\"text/css\" scoped=\"scoped\">\n",
       "                        @keyframes pb-fill-anim {\n",
       "                            0% { background-position: 0 0; }\n",
       "                            100% { background-position: 100px 0; }\n",
       "                        }\n",
       "                    </style>\n",
       "                    &nbsp;\n",
       "                  </div>\n",
       "                </div>"
      ],
      "text/plain": [
       "HtmlProgressBar cannot be displayed. Please use the TerminalProgressBar. It can be enabled with `nengo.rc.set('progress', 'progress_bar', 'nengo.utils.progress.TerminalProgressBar')`."
      ]
     },
     "metadata": {},
     "output_type": "display_data"
    },
    {
     "data": {
      "application/vdom.v1+json": {
       "attributes": {
        "id": "e7cd1a7e-f727-42c0-949e-88131ba5bdb5",
        "style": {
         "border": "1px solid #cfcfcf",
         "borderRadius": "4px",
         "boxSizing": "border-box",
         "position": "relative",
         "textAlign": "center",
         "width": "100%"
        }
       },
       "children": [
        {
         "attributes": {
          "class": "pb-text",
          "style": {
           "position": "absolute",
           "width": "100%"
          }
         },
         "children": [
          "Build finished in 0:00:01."
         ],
         "tagName": "div"
        },
        {
         "attributes": {
          "class": "pb-fill",
          "style": {
           "animation": "none",
           "backgroundColor": "#bdd2e6",
           "backgroundImage": "none",
           "backgroundSize": "100px 100%",
           "width": "100%"
          }
         },
         "children": [
          {
           "attributes": {
            "scoped": "scoped",
            "type": "text/css"
           },
           "children": [
            "\n                        @keyframes pb-fill-anim {\n                            0% { background-position: 0 0; }\n                            100% { background-position: 100px 0; }\n                        }}"
           ],
           "tagName": "style"
          },
          " "
         ],
         "tagName": "div"
        }
       ],
       "tagName": "div"
      },
      "text/html": [
       "<script>\n",
       "              (function () {\n",
       "                  var root = document.getElementById('42b056df-29de-4ff1-843d-24e6bdb9f54a');\n",
       "                  var text = root.getElementsByClassName('pb-text')[0];\n",
       "                  var fill = root.getElementsByClassName('pb-fill')[0];\n",
       "\n",
       "                  text.innerHTML = 'Build finished in 0:00:01.';\n",
       "                  \n",
       "            fill.style.width = '100%';\n",
       "            fill.style.animation = 'pb-fill-anim 2s linear infinite';\n",
       "            fill.style.backgroundSize = '100px 100%';\n",
       "            fill.style.backgroundImage = 'repeating-linear-gradient(' +\n",
       "                '90deg, #bdd2e6, #edf2f8 40%, #bdd2e6 80%, #bdd2e6)';\n",
       "        \n",
       "                  \n",
       "                fill.style.animation = 'none';\n",
       "                fill.style.backgroundImage = 'none';\n",
       "            \n",
       "              })();\n",
       "        </script>"
      ]
     },
     "metadata": {},
     "output_type": "display_data"
    },
    {
     "data": {
      "text/plain": [
       "[<matplotlib.lines.Line2D at 0x7fa456bda780>]"
      ]
     },
     "execution_count": 83,
     "metadata": {},
     "output_type": "execute_result"
    },
    {
     "data": {
      "image/png": "[encoded data removed]",
      "text/plain": [
       "<Figure size 432x288 with 1 Axes>"
      ]
     },
     "metadata": {
      "needs_background": "light"
     },
     "output_type": "display_data"
    }
   ],
   "source": [
    "seed = 543\n",
    "\n",
    "env = gym.make('CartPole-v0')\n",
    "env.seed(seed)\n",
    "\n",
    "class Policy(object):\n",
    "    def __init__(self, n_neurons=128, dimensions=4, seed=543):\n",
    "        self.model = nengo.Network(seed=seed)\n",
    "        with self.model:\n",
    "            self.ens = nengo.Ensemble(n_neurons=n_neurons, dimensions=dimensions, \n",
    "                                      neuron_type=nengo.RectifiedLinear())\n",
    "        self.sim = nengo.Simulator(self.model)\n",
    "        \n",
    "        self.w = np.zeros((3, n_neurons))\n",
    "        \n",
    "    def forward(self, x):\n",
    "        _, act = nengo.utils.ensemble.tuning_curves(self.ens, self.sim, inputs=x)\n",
    "        y = self.w.dot(act)\n",
    "        return y\n",
    "    \n",
    "    def train(self, x, error, learning_rate=1e-4):\n",
    "        _, act = nengo.utils.ensemble.tuning_curves(self.ens, self.sim, inputs=x)\n",
    "        \n",
    "        delta = error.T.dot(act)\n",
    "        self.w += -learning_rate*delta\n",
    "        \n",
    "        \n",
    "def log_prob(probs):\n",
    "    eps = 1e-6\n",
    "    p = np.clip(probs, eps, 1-eps)\n",
    "    return np.log(p)\n",
    "    \n",
    "def select_action(state):\n",
    "    y = p.forward(state)\n",
    "    probs = y[:-1]\n",
    "    probs = scipy.special.softmax(probs)\n",
    "    action = np.random.choice(np.arange(2), p=probs)\n",
    "    log_probs = log_prob(probs)\n",
    "    value = y[-1]\n",
    "    return action, log_probs[action], value\n",
    "\n",
    "def do_episode():\n",
    "    history = []\n",
    "    state = env.reset()\n",
    "    ep_reward = 0\n",
    "    for i in range(9999):\n",
    "        action, log_prob, value = select_action(state)\n",
    "        state2, reward, done, _ = env.step(action)        \n",
    "        history.append((state, action, state2, reward, log_prob, value))\n",
    "        if done:\n",
    "            break\n",
    "    return history\n",
    "\n",
    "def do_training(history, gamma=0.99, learning_rate=1e-4):\n",
    "    returns = []\n",
    "    R = 0\n",
    "    for h in history[::-1]:\n",
    "        r = h[3]\n",
    "        R = r + gamma * R\n",
    "        returns.insert(0, R)\n",
    "    returns = np.array(returns)\n",
    "    returns = (returns - returns.mean()) / (returns.std() + 1e-6)\n",
    "    \n",
    "    train_state = []\n",
    "    train_error = []\n",
    "    for i, h in enumerate(history):\n",
    "        R = returns[i]\n",
    "        value = h[5]\n",
    "        advantage = R - value\n",
    "        action = h[1]\n",
    "        state = h[0]\n",
    "        log_prob = h[4]\n",
    "        error_action = np.zeros(2)\n",
    "        error_action[action] = -log_prob * advantage\n",
    "        \n",
    "        error_value = value - R\n",
    "        error = np.hstack([error_action, error_value])\n",
    "        train_state.append(state)\n",
    "        train_error.append(error)\n",
    "    \n",
    "    p.train(np.array(train_state), np.array(train_error), learning_rate=learning_rate)\n",
    "        \n",
    "\n",
    "p = Policy()\n",
    "\n",
    "rs = []\n",
    "for i in range(1000):\n",
    "    h = do_episode()\n",
    "    rs.append(len(h))\n",
    "    do_training(h, gamma=0.99, learning_rate=1e-8)\n",
    "    \n",
    "plt.plot(rs)"
   ]
  },
  {
   "cell_type": "code",
   "execution_count": 55,
   "metadata": {},
   "outputs": [
    {
     "data": {
      "text/plain": [
       "[<matplotlib.lines.Line2D at 0x7fa456d092e8>]"
      ]
     },
     "execution_count": 55,
     "metadata": {},
     "output_type": "execute_result"
    },
    {
     "data": {
      "image/png": "[encoded data removed]",
      "text/plain": [
       "<Figure size 432x288 with 1 Axes>"
      ]
     },
     "metadata": {
      "needs_background": "light"
     },
     "output_type": "display_data"
    }
   ],
   "source": [
    "plt.plot([hh[1] for hh in h])"
   ]
  },
  {
   "cell_type": "code",
   "execution_count": 43,
   "metadata": {},
   "outputs": [
    {
     "name": "stdout",
     "output_type": "stream",
     "text": [
      "tensor(-0.2231)\n"
     ]
    }
   ],
   "source": [
    "from torch.distributions import Categorical\n",
    "import torch\n",
    "\n",
    "probs = torch.from_numpy(np.array([0.2, 0.8])).float()\n",
    "\n",
    "m = Categorical(probs)\n",
    "\n",
    "action = m.sample()\n",
    "\n",
    "print(m.log_prob(action))"
   ]
  },
  {
   "cell_type": "code",
   "execution_count": null,
   "metadata": {},
   "outputs": [],
   "source": []
  },
  {
   "cell_type": "code",
   "execution_count": null,
   "metadata": {},
   "outputs": [],
   "source": []
  }
 ],
 "metadata": {
  "kernelspec": {
   "display_name": "Python 3",
   "language": "python",
   "name": "python3"
  },
  "language_info": {
   "codemirror_mode": {
    "name": "ipython",
    "version": 3
   },
   "file_extension": ".py",
   "mimetype": "text/x-python",
   "name": "python",
   "nbconvert_exporter": "python",
   "pygments_lexer": "ipython3",
   "version": "3.6.7"
  }
 },
 "nbformat": 4,
 "nbformat_minor": 2
}
