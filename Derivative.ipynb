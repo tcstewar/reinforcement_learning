{
 "cells": [
  {
   "cell_type": "code",
   "execution_count": 31,
   "metadata": {},
   "outputs": [],
   "source": [
    "from sympy import *\n",
    "h_1, h_2, h_3, h_4 = symbols('h_1 h_2 h_3 h_4')\n",
    "R, v = symbols('R v')\n",
    "w_11, w_12, w_13, w_14 = symbols('w_11 w_12 w_13 w_14')\n",
    "w_21, w_22, w_23, w_24 = symbols('w_21 w_22 w_23 w_24')\n",
    "w_31, w_32, w_33, w_34 = symbols('w_31 w_32 w_33 w_34')\n",
    "\n",
    "a_1 = h_1*w_11 + h_2*w_12 + h_3*w_13 + h_4*w_14\n",
    "a_2 = h_1*w_21 + h_2*w_22 + h_3*w_23 + h_4*w_24\n",
    "a_3 = h_1*w_31 + h_2*w_32 + h_3*w_33 + h_4*w_34\n",
    "\n",
    "p_1 = exp(a_1) / (exp(a_1)+exp(a_2)+exp(a_3))\n",
    "p_2 = exp(a_2) / (exp(a_1)+exp(a_2)+exp(a_3))\n",
    "p_3 = exp(a_3) / (exp(a_1)+exp(a_2)+exp(a_3))\n",
    "\n",
    "#p_1 = exp(a_1) / (exp(a_1)+exp(a_2))\n",
    "#p_2 = exp(a_2) / (exp(a_1)+exp(a_2))\n",
    "\n"
   ]
  },
  {
   "cell_type": "code",
   "execution_count": 54,
   "metadata": {},
   "outputs": [
    {
     "data": {
      "text/latex": [
       "$\\displaystyle h_{2} \\left(R - v\\right)$"
      ],
      "text/plain": [
       "h_2*(R - v)"
      ]
     },
     "execution_count": 54,
     "metadata": {},
     "output_type": "execute_result"
    }
   ],
   "source": [
    "simplify(simplify(diff(-ln(p_1)*(R-v), w_32))/(p_3))"
   ]
  },
  {
   "cell_type": "code",
   "execution_count": 3,
   "metadata": {},
   "outputs": [
    {
     "data": {
      "text/latex": [
       "$\\displaystyle \\frac{e^{h_{1} w_{21} + h_{2} w_{22} + h_{3} w_{23} + h_{4} w_{24}}}{e^{h_{1} w_{11} + h_{2} w_{12} + h_{3} w_{13} + h_{4} w_{14}} + e^{h_{1} w_{21} + h_{2} w_{22} + h_{3} w_{23} + h_{4} w_{24}}}$"
      ],
      "text/plain": [
       "exp(h_1*w_21 + h_2*w_22 + h_3*w_23 + h_4*w_24)/(exp(h_1*w_11 + h_2*w_12 + h_3*w_13 + h_4*w_14) + exp(h_1*w_21 + h_2*w_22 + h_3*w_23 + h_4*w_24))"
      ]
     },
     "execution_count": 3,
     "metadata": {},
     "output_type": "execute_result"
    }
   ],
   "source": [
    "p_2"
   ]
  },
  {
   "cell_type": "code",
   "execution_count": null,
   "metadata": {},
   "outputs": [],
   "source": []
  }
 ],
 "metadata": {
  "kernelspec": {
   "display_name": "Python 3",
   "language": "python",
   "name": "python3"
  },
  "language_info": {
   "codemirror_mode": {
    "name": "ipython",
    "version": 3
   },
   "file_extension": ".py",
   "mimetype": "text/x-python",
   "name": "python",
   "nbconvert_exporter": "python",
   "pygments_lexer": "ipython3",
   "version": "3.6.7"
  }
 },
 "nbformat": 4,
 "nbformat_minor": 2
}
